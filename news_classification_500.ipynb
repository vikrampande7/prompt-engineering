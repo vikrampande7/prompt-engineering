{
 "cells": [
  {
   "cell_type": "markdown",
   "metadata": {},
   "source": [
    "### CSC 791 - Natural Language Processing\n",
    "### Project Assignment 2\n",
    "#### Vikram Pande\n",
    "#### News Classification with Prompt Engineering"
   ]
  },
  {
   "cell_type": "code",
   "execution_count": 1,
   "metadata": {},
   "outputs": [],
   "source": [
    "# import libraries\n",
    "import openai\n",
    "import pandas as pd\n",
    "import time\n",
    "import re\n",
    "from tqdm import tqdm\n",
    "\n",
    "from tenacity import (\n",
    "    retry,\n",
    "    stop_after_attempt,\n",
    "    wait_random_exponential,\n",
    ")\n",
    "\n",
    "from sklearn.metrics import accuracy_score\n"
   ]
  },
  {
   "cell_type": "code",
   "execution_count": 2,
   "metadata": {},
   "outputs": [],
   "source": [
    "# Function to load the API key from a file\n",
    "def load_api_key(api_key_file_path):\n",
    "    with open(api_key_file_path, 'r') as file:\n",
    "        api_key = file.read().strip()\n",
    "    return api_key\n",
    "\n",
    "# Load your API key from a file\n",
    "api_key = load_api_key('api_key.txt')\n",
    "\n",
    "# Set up the OpenAI API client\n",
    "openai.api_key = api_key\n",
    "\n",
    "@retry(wait=wait_random_exponential(min=1, max=60), stop=stop_after_attempt(6))\n",
    "def completion_with_backoff(**kwargs):\n",
    "    return openai.Completion.create(**kwargs)\n",
    "\n",
    "# Function to return prompt response\n",
    "def completion_with_backoff(prompt, model=\"gpt-3.5-turbo\", max_tokens=256, temperature=0):\n",
    "    try:\n",
    "        response = openai.chat.completions.create(\n",
    "            model=model,\n",
    "            messages=[{\"role\": \"system\", \"content\": \"You are a helpful assistant.\"},\n",
    "                    {\"role\": \"user\", \"content\": prompt}],\n",
    "            max_tokens=max_tokens,\n",
    "            temperature = temperature,\n",
    "            top_p=1.0\n",
    "        )\n",
    "    except:\n",
    "        print('Retrying in 20 seconds!')\n",
    "        time.sleep(20)\n",
    "        print('Started again!')\n",
    "        response = openai.chat.completions.create(\n",
    "            model=model,\n",
    "            messages=[{\"role\": \"system\", \"content\": \"You are a helpful assistant.\"},\n",
    "                    {\"role\": \"user\", \"content\": prompt}],\n",
    "            max_tokens=max_tokens,\n",
    "            temperature = temperature,\n",
    "            top_p=1.0\n",
    "        )\n",
    "\n",
    "    return response.choices[0].message.content.strip()\n"
   ]
  },
  {
   "cell_type": "code",
   "execution_count": 3,
   "metadata": {},
   "outputs": [
    {
     "name": "stdout",
     "output_type": "stream",
     "text": [
      "(7600, 3)\n"
     ]
    }
   ],
   "source": [
    "# Read Data\n",
    "data_path = 'data'\n",
    "data = pd.read_csv(data_path + '/news-ag-data/test.csv')\n",
    "print(data.shape)\n"
   ]
  },
  {
   "cell_type": "markdown",
   "metadata": {},
   "source": [
    "Class mapping of Dataset\n",
    "1. World\n",
    "2. Sports\n",
    "3. Business\n",
    "4. Science/technology"
   ]
  },
  {
   "cell_type": "code",
   "execution_count": 4,
   "metadata": {},
   "outputs": [
    {
     "name": "stdout",
     "output_type": "stream",
     "text": [
      "Unions representing workers at Turner   Newall say they are 'disappointed' after talks with stricken parent firm Federal Mogul.\n",
      "3\n"
     ]
    }
   ],
   "source": [
    "text = data['Description'][0]\n",
    "print(text)\n",
    "\n",
    "test_prompt = f\"\"\"\n",
    " Q: Classify given sentence into one of the folloiwng classes\n",
    "                1-world news/world, 2-sports, 3-business, 4-science/technology\n",
    "                The football game was amazing.\n",
    "                Return only the class index.\n",
    "\n",
    "                The word football belongs to sport and game also could belong to sports.\n",
    "                Hence the answer is sports news - Class 2\n",
    "\n",
    "                A: 2\n",
    "\n",
    "                Q: Classify given sentence into one of the folloiwng classes\n",
    "                1-world news/world, 2-sports, 3-business, 4-science/technology\n",
    "                {text}\n",
    "                Return only the class index.\n",
    "\n",
    "                A:\n",
    "\"\"\"\n",
    "response = completion_with_backoff(test_prompt)\n",
    "print(response)\n"
   ]
  },
  {
   "cell_type": "markdown",
   "metadata": {},
   "source": [
    "### Input test data descriptions in prompts"
   ]
  },
  {
   "cell_type": "markdown",
   "metadata": {},
   "source": [
    "### Strat 1 : Baseline: Direct Input and Output - Zero-shot prompting"
   ]
  },
  {
   "cell_type": "code",
   "execution_count": 7,
   "metadata": {},
   "outputs": [
    {
     "name": "stdout",
     "output_type": "stream",
     "text": [
      "500\n"
     ]
    }
   ],
   "source": [
    "actual_classes = data['Class Index']\n",
    "actual_classes = actual_classes[100:600]\n",
    "\n",
    "actual_classes = actual_classes.to_list()\n",
    "print(len(actual_classes))\n"
   ]
  },
  {
   "cell_type": "code",
   "execution_count": 8,
   "metadata": {},
   "outputs": [],
   "source": [
    "descriptions = data['Description']\n",
    "descriptions = descriptions[100:600]\n"
   ]
  },
  {
   "cell_type": "code",
   "execution_count": 9,
   "metadata": {},
   "outputs": [
    {
     "name": "stderr",
     "output_type": "stream",
     "text": [
      "Processing: 100%|██████████| 500/500 [1:25:23<00:00, 10.25s/element]   \n"
     ]
    }
   ],
   "source": [
    "predicted_classes = []\n",
    "input_text = []\n",
    "\n",
    "for idx, description in enumerate(tqdm(descriptions, desc=\"Processing\", unit=\"element\")):\n",
    "    #print(f'starting element {count}')\n",
    "    prompt = f\"\"\"\n",
    "                Classify given sentence into one of the folloiwng classes\n",
    "                1-world news/world, 2-sports, 3-business, 4-science/technology\n",
    "                Return only the class index.\n",
    "                {description}\n",
    "              \"\"\"\n",
    "    try:\n",
    "        response = completion_with_backoff(prompt)\n",
    "    except:\n",
    "        response = -1\n",
    "\n",
    "    predicted_classes.append(response)\n",
    "    input_text.append(description)\n"
   ]
  },
  {
   "cell_type": "code",
   "execution_count": 10,
   "metadata": {},
   "outputs": [
    {
     "data": {
      "text/plain": [
       "500"
      ]
     },
     "execution_count": 10,
     "metadata": {},
     "output_type": "execute_result"
    }
   ],
   "source": [
    "pc_copy = predicted_classes.copy()\n",
    "len(predicted_classes)\n"
   ]
  },
  {
   "cell_type": "code",
   "execution_count": 14,
   "metadata": {},
   "outputs": [
    {
     "name": "stdout",
     "output_type": "stream",
     "text": [
      "500\n"
     ]
    }
   ],
   "source": [
    "predicted_classes = [int(num) for num in re.findall(r'\\d+', ' '.join(predicted_classes))]\n",
    "print(len(predicted_classes))\n"
   ]
  },
  {
   "cell_type": "code",
   "execution_count": 15,
   "metadata": {},
   "outputs": [],
   "source": [
    "# predicted_classes = [int(x) for x in predicted_classes]\n",
    "# predicted_classes\n"
   ]
  },
  {
   "cell_type": "code",
   "execution_count": 17,
   "metadata": {},
   "outputs": [
    {
     "name": "stdout",
     "output_type": "stream",
     "text": [
      "0.692\n"
     ]
    }
   ],
   "source": [
    "accuracy_baseline = accuracy_score(actual_classes, predicted_classes)\n",
    "print(accuracy_baseline)\n"
   ]
  },
  {
   "cell_type": "markdown",
   "metadata": {},
   "source": [
    "### Strat 2 : Few Shot Prompting"
   ]
  },
  {
   "cell_type": "code",
   "execution_count": 18,
   "metadata": {},
   "outputs": [
    {
     "name": "stderr",
     "output_type": "stream",
     "text": [
      "Processing: 100%|██████████| 500/500 [1:43:50<00:00, 12.46s/element]   \n"
     ]
    }
   ],
   "source": [
    "predicted_classes_fs = []\n",
    "\n",
    "for idx, description in enumerate(tqdm(descriptions, desc=\"Processing\", unit=\"element\")):\n",
    "\n",
    "    prompt = f\"\"\"\n",
    "                Q: Classify given sentence into one of the folloiwng classes\n",
    "                1-world news/world, 2-sports, 3-business, 4-science/technology\n",
    "                The football game was amazing.\n",
    "                Return only the class index.\n",
    "\n",
    "                A: 2\n",
    "\n",
    "                Q: Classify given sentence into one of the folloiwng classes\n",
    "                1-world news/world, 2-sports, 3-business, 4-science/technology\n",
    "                {description}\n",
    "                Return only the class index.\n",
    "\n",
    "                A:\n",
    "              \"\"\"\n",
    "    try:\n",
    "        response = completion_with_backoff(prompt)\n",
    "    except:\n",
    "        response = -1\n",
    "\n",
    "    predicted_classes_fs.append(response)\n",
    "    input_text.append(description)\n"
   ]
  },
  {
   "cell_type": "code",
   "execution_count": 20,
   "metadata": {},
   "outputs": [
    {
     "data": {
      "text/plain": [
       "500"
      ]
     },
     "execution_count": 20,
     "metadata": {},
     "output_type": "execute_result"
    }
   ],
   "source": [
    "pcfs_copy = predicted_classes_fs.copy()\n",
    "len(predicted_classes_fs)\n"
   ]
  },
  {
   "cell_type": "code",
   "execution_count": 22,
   "metadata": {},
   "outputs": [
    {
     "name": "stdout",
     "output_type": "stream",
     "text": [
      "500\n"
     ]
    }
   ],
   "source": [
    "predicted_classes_fs = [int(num) for num in re.findall(r'\\d+', ' '.join(predicted_classes_fs))]\n",
    "print(len(predicted_classes_fs))\n"
   ]
  },
  {
   "cell_type": "code",
   "execution_count": 23,
   "metadata": {},
   "outputs": [
    {
     "name": "stdout",
     "output_type": "stream",
     "text": [
      "0.686\n"
     ]
    }
   ],
   "source": [
    "accuracy_fs = accuracy_score(actual_classes, predicted_classes_fs)\n",
    "print(accuracy_fs)\n"
   ]
  },
  {
   "cell_type": "markdown",
   "metadata": {},
   "source": [
    "### Strat 3 : CoT - Chain of Thoughts"
   ]
  },
  {
   "cell_type": "code",
   "execution_count": 24,
   "metadata": {},
   "outputs": [
    {
     "name": "stderr",
     "output_type": "stream",
     "text": [
      "Processing: 100%|██████████| 500/500 [1:00:59<00:00,  7.32s/element]  \n"
     ]
    }
   ],
   "source": [
    "predicted_classes_cot = []\n",
    "input_text = []\n",
    "\n",
    "for idx, description in enumerate(tqdm(descriptions, desc=\"Processing\", unit=\"element\")):\n",
    "\n",
    "    prompt = f\"\"\"\n",
    "                Q: Classify given sentence into one of the folloiwng classes\n",
    "                1-world news/world, 2-sports, 3-business, 4-science/technology\n",
    "                The football game was amazing.\n",
    "                Return only the class index.\n",
    "                The word football belongs to sport and game also could belong to sports.\n",
    "                Hence the answer is sports news - Class 2\n",
    "\n",
    "                A: 2\n",
    "\n",
    "                Q: Classify given sentence into one of the folloiwng classes\n",
    "                1-world news/world, 2-sports, 3-business, 4-science/technology\n",
    "                {description}\n",
    "                Return only the class index.\n",
    "\n",
    "                A:\n",
    "              \"\"\"\n",
    "    try:\n",
    "        response = completion_with_backoff(prompt)\n",
    "    except:\n",
    "        response = -1\n",
    "\n",
    "    predicted_classes_cot.append(response)\n",
    "    input_text.append(description)\n"
   ]
  },
  {
   "cell_type": "code",
   "execution_count": 25,
   "metadata": {},
   "outputs": [
    {
     "data": {
      "text/plain": [
       "500"
      ]
     },
     "execution_count": 25,
     "metadata": {},
     "output_type": "execute_result"
    }
   ],
   "source": [
    "pccot_copy = predicted_classes_cot.copy()\n",
    "len(predicted_classes_cot)\n"
   ]
  },
  {
   "cell_type": "code",
   "execution_count": 28,
   "metadata": {},
   "outputs": [],
   "source": [
    "# predicted_classes_cot\n",
    "# pccot_copy\n",
    "predicted_classes_cot = [int(x) for x in predicted_classes_cot]\n"
   ]
  },
  {
   "cell_type": "code",
   "execution_count": 29,
   "metadata": {},
   "outputs": [
    {
     "name": "stdout",
     "output_type": "stream",
     "text": [
      "0.648\n"
     ]
    }
   ],
   "source": [
    "accuracy_cot = accuracy_score(actual_classes, predicted_classes_cot)\n",
    "print(accuracy_cot)\n"
   ]
  },
  {
   "cell_type": "code",
   "execution_count": null,
   "metadata": {},
   "outputs": [],
   "source": []
  }
 ],
 "metadata": {
  "kernelspec": {
   "display_name": "base",
   "language": "python",
   "name": "python3"
  },
  "language_info": {
   "codemirror_mode": {
    "name": "ipython",
    "version": 3
   },
   "file_extension": ".py",
   "mimetype": "text/x-python",
   "name": "python",
   "nbconvert_exporter": "python",
   "pygments_lexer": "ipython3",
   "version": "3.10.9"
  }
 },
 "nbformat": 4,
 "nbformat_minor": 2
}

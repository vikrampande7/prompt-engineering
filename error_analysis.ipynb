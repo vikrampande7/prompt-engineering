{
 "cells": [
  {
   "cell_type": "markdown",
   "metadata": {},
   "source": [
    "### CSC 791 - Natural Language Processing\n",
    "### Project Assignment 2\n",
    "#### Vikram Pande\n",
    "#### News Classification with Prompt Engineering"
   ]
  },
  {
   "cell_type": "code",
   "execution_count": 1,
   "metadata": {},
   "outputs": [],
   "source": [
    "# import libraries\n",
    "import openai\n",
    "import pandas as pd\n",
    "import time\n",
    "import re\n",
    "from tqdm import tqdm\n",
    "\n",
    "from tenacity import (\n",
    "    retry,\n",
    "    stop_after_attempt,\n",
    "    wait_random_exponential,\n",
    ")\n",
    "\n",
    "from sklearn.metrics import accuracy_score\n",
    "\n"
   ]
  },
  {
   "cell_type": "code",
   "execution_count": 2,
   "metadata": {},
   "outputs": [],
   "source": [
    "# Function to load the API key from a file\n",
    "def load_api_key(api_key_file_path):\n",
    "    with open(api_key_file_path, 'r') as file:\n",
    "        api_key = file.read().strip()\n",
    "    return api_key\n",
    "\n",
    "# Load your API key from a file\n",
    "api_key = load_api_key('api_key.txt')\n",
    "\n",
    "# Set up the OpenAI API client\n",
    "openai.api_key = api_key\n",
    "\n",
    "@retry(wait=wait_random_exponential(min=1, max=60), stop=stop_after_attempt(6))\n",
    "def completion_with_backoff(**kwargs):\n",
    "    return openai.Completion.create(**kwargs)\n",
    "\n",
    "# Function to return prompt response\n",
    "def completion_with_backoff(prompt, model=\"gpt-3.5-turbo\", max_tokens=256, temperature=0):\n",
    "    try:\n",
    "        response = openai.chat.completions.create(\n",
    "            model=model,\n",
    "            messages=[{\"role\": \"system\", \"content\": \"You are a helpful assistant.\"},\n",
    "                    {\"role\": \"user\", \"content\": prompt}],\n",
    "            max_tokens=max_tokens,\n",
    "            temperature = temperature,\n",
    "            top_p=1.0\n",
    "        )\n",
    "    except:\n",
    "        print('Retrying in 20 seconds!')\n",
    "        time.sleep(20)\n",
    "        print('Started again!')\n",
    "        response = openai.chat.completions.create(\n",
    "            model=model,\n",
    "            messages=[{\"role\": \"system\", \"content\": \"You are a helpful assistant.\"},\n",
    "                    {\"role\": \"user\", \"content\": prompt}],\n",
    "            max_tokens=max_tokens,\n",
    "            temperature = temperature,\n",
    "            top_p=1.0\n",
    "        )\n",
    "\n",
    "    return response.choices[0].message.content.strip()\n"
   ]
  },
  {
   "cell_type": "code",
   "execution_count": 3,
   "metadata": {},
   "outputs": [
    {
     "name": "stdout",
     "output_type": "stream",
     "text": [
      "(7600, 3)\n"
     ]
    }
   ],
   "source": [
    "# Read Data\n",
    "data_path = 'data'\n",
    "data = pd.read_csv(data_path + '/news-ag-data/test.csv')\n",
    "print(data.shape)\n"
   ]
  },
  {
   "cell_type": "markdown",
   "metadata": {},
   "source": [
    "Class mapping of Dataset\n",
    "1. World\n",
    "2. Sports\n",
    "3. Business\n",
    "4. Science/technology"
   ]
  },
  {
   "cell_type": "code",
   "execution_count": 4,
   "metadata": {},
   "outputs": [
    {
     "name": "stdout",
     "output_type": "stream",
     "text": [
      "100\n"
     ]
    }
   ],
   "source": [
    "actual_classes = data['Class Index']\n",
    "actual_classes = actual_classes[0:100]\n",
    "\n",
    "actual_classes = actual_classes.to_list()\n",
    "print(len(actual_classes))\n",
    "\n",
    "descriptions = data['Description']\n",
    "descriptions = descriptions[0:100]\n"
   ]
  },
  {
   "cell_type": "code",
   "execution_count": 5,
   "metadata": {},
   "outputs": [
    {
     "name": "stderr",
     "output_type": "stream",
     "text": [
      "Processing: 100%|██████████| 100/100 [56:00<00:00, 33.61s/element]  \n"
     ]
    }
   ],
   "source": [
    "predicted_classes = []\n",
    "input_text = []\n",
    "\n",
    "for idx, description in enumerate(tqdm(descriptions, desc=\"Processing\", unit=\"element\")):\n",
    "    prompt = f\"\"\"\n",
    "                Q: Classify given sentence into one of the folloiwng classes\n",
    "                1-world news/world, 2-sports, 3-business, 4-science/technology\n",
    "                Return class index for each.\n",
    "                {description}\n",
    "\n",
    "                A: Let's think step by step...\n",
    "              \"\"\"\n",
    "    try:\n",
    "        response = completion_with_backoff(prompt)\n",
    "    except:\n",
    "        response = -1\n",
    "\n",
    "    predicted_classes.append(response)\n",
    "    input_text.append(description)\n"
   ]
  },
  {
   "cell_type": "code",
   "execution_count": 8,
   "metadata": {},
   "outputs": [],
   "source": [
    "pc_copy = [predicted_classes]\n",
    "explanations = predicted_classes\n"
   ]
  },
  {
   "cell_type": "code",
   "execution_count": 16,
   "metadata": {},
   "outputs": [],
   "source": [
    "df = pd.DataFrame({\n",
    "    'description': descriptions,\n",
    "    'predicted': explanations,\n",
    "    'actual_class': actual_classes\n",
    "})\n"
   ]
  },
  {
   "cell_type": "code",
   "execution_count": 18,
   "metadata": {},
   "outputs": [],
   "source": [
    "df.to_excel('error_analysis.xlsx')\n"
   ]
  }
 ],
 "metadata": {
  "kernelspec": {
   "display_name": "base",
   "language": "python",
   "name": "python3"
  },
  "language_info": {
   "codemirror_mode": {
    "name": "ipython",
    "version": 3
   },
   "file_extension": ".py",
   "mimetype": "text/x-python",
   "name": "python",
   "nbconvert_exporter": "python",
   "pygments_lexer": "ipython3",
   "version": "3.10.9"
  }
 },
 "nbformat": 4,
 "nbformat_minor": 2
}
